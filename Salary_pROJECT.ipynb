{
 "cells": [
  {
   "cell_type": "markdown",
   "metadata": {},
   "source": [
    "# Salary Project"
   ]
  },
  {
   "cell_type": "code",
   "execution_count": 1,
   "metadata": {},
   "outputs": [],
   "source": [
    "#Import the Required Libraries\n",
    "import pandas as pd\n",
    "import numpy as np\n",
    "import scipy\n",
    "import sklearn\n",
    "from sklearn import linear_model\n",
    "import seaborn as sns\n",
    "import matplotlib.pyplot as plt\n",
    "import warnings\n",
    "warnings.filterwarnings('ignore')"
   ]
  },
  {
   "cell_type": "code",
   "execution_count": 2,
   "metadata": {},
   "outputs": [],
   "source": [
    "# Create a dataframe using the given csv file\n",
    "df=pd.read_csv('salary.csv')"
   ]
  },
  {
   "cell_type": "code",
   "execution_count": 3,
   "metadata": {},
   "outputs": [
    {
     "data": {
      "text/html": [
       "<div>\n",
       "<style scoped>\n",
       "    .dataframe tbody tr th:only-of-type {\n",
       "        vertical-align: middle;\n",
       "    }\n",
       "\n",
       "    .dataframe tbody tr th {\n",
       "        vertical-align: top;\n",
       "    }\n",
       "\n",
       "    .dataframe thead th {\n",
       "        text-align: right;\n",
       "    }\n",
       "</style>\n",
       "<table border=\"1\" class=\"dataframe\">\n",
       "  <thead>\n",
       "    <tr style=\"text-align: right;\">\n",
       "      <th></th>\n",
       "      <th>Yearsof Exp</th>\n",
       "      <th>Salary</th>\n",
       "    </tr>\n",
       "  </thead>\n",
       "  <tbody>\n",
       "    <tr>\n",
       "      <th>0</th>\n",
       "      <td>1.1</td>\n",
       "      <td>39343</td>\n",
       "    </tr>\n",
       "    <tr>\n",
       "      <th>1</th>\n",
       "      <td>1.3</td>\n",
       "      <td>46205</td>\n",
       "    </tr>\n",
       "    <tr>\n",
       "      <th>2</th>\n",
       "      <td>1.5</td>\n",
       "      <td>37731</td>\n",
       "    </tr>\n",
       "    <tr>\n",
       "      <th>3</th>\n",
       "      <td>2.0</td>\n",
       "      <td>43525</td>\n",
       "    </tr>\n",
       "    <tr>\n",
       "      <th>4</th>\n",
       "      <td>2.2</td>\n",
       "      <td>39891</td>\n",
       "    </tr>\n",
       "  </tbody>\n",
       "</table>\n",
       "</div>"
      ],
      "text/plain": [
       "   Yearsof Exp  Salary\n",
       "0          1.1   39343\n",
       "1          1.3   46205\n",
       "2          1.5   37731\n",
       "3          2.0   43525\n",
       "4          2.2   39891"
      ]
     },
     "execution_count": 3,
     "metadata": {},
     "output_type": "execute_result"
    }
   ],
   "source": [
    "# lets check the first five rows of data\n",
    "df.head()"
   ]
  },
  {
   "cell_type": "code",
   "execution_count": 4,
   "metadata": {},
   "outputs": [
    {
     "data": {
      "text/plain": [
       "(30, 2)"
      ]
     },
     "execution_count": 4,
     "metadata": {},
     "output_type": "execute_result"
    }
   ],
   "source": [
    "# Lets check the shape\n",
    "df.shape"
   ]
  },
  {
   "cell_type": "code",
   "execution_count": 5,
   "metadata": {},
   "outputs": [
    {
     "name": "stdout",
     "output_type": "stream",
     "text": [
      "<class 'pandas.core.frame.DataFrame'>\n",
      "RangeIndex: 30 entries, 0 to 29\n",
      "Data columns (total 2 columns):\n",
      "Yearsof Exp    30 non-null float64\n",
      "Salary         30 non-null int64\n",
      "dtypes: float64(1), int64(1)\n",
      "memory usage: 560.0 bytes\n"
     ]
    }
   ],
   "source": [
    "# Lets check the type of features and target\n",
    "df.info()"
   ]
  },
  {
   "cell_type": "code",
   "execution_count": 6,
   "metadata": {},
   "outputs": [
    {
     "data": {
      "text/plain": [
       "<matplotlib.axes._subplots.AxesSubplot at 0x2888e88278>"
      ]
     },
     "execution_count": 6,
     "metadata": {},
     "output_type": "execute_result"
    },
    {
     "data": {
      "image/png": "[encoded data removed]",
      "text/plain": [
       "<Figure size 432x288 with 2 Axes>"
      ]
     },
     "metadata": {
      "needs_background": "light"
     },
     "output_type": "display_data"
    }
   ],
   "source": [
    "#Lets check the missing values\n",
    "import seaborn as sns\n",
    "sns.heatmap(df.isnull())"
   ]
  },
  {
   "cell_type": "code",
   "execution_count": 7,
   "metadata": {},
   "outputs": [
    {
     "data": {
      "text/plain": [
       "Yearsof Exp    0\n",
       "Salary         0\n",
       "dtype: int64"
      ]
     },
     "execution_count": 7,
     "metadata": {},
     "output_type": "execute_result"
    }
   ],
   "source": [
    "# Lets confirm the missing values\n",
    "df.isnull().sum()"
   ]
  },
  {
   "cell_type": "code",
   "execution_count": 8,
   "metadata": {},
   "outputs": [
    {
     "name": "stdout",
     "output_type": "stream",
     "text": [
      "(30, 2)\n",
      "(30, 2)\n"
     ]
    }
   ],
   "source": [
    "# Lets remove the outliers if any\n",
    "from scipy.stats import zscore\n",
    "z_score = abs(zscore(df))\n",
    "dfn = df.loc[(z_score<3).all(axis=1)]\n",
    "print(df.shape)\n",
    "print(dfn.shape)"
   ]
  },
  {
   "cell_type": "code",
   "execution_count": 9,
   "metadata": {},
   "outputs": [
    {
     "data": {
      "text/plain": [
       "Yearsof Exp    0.37956\n",
       "Salary         0.35412\n",
       "dtype: float64"
      ]
     },
     "execution_count": 9,
     "metadata": {},
     "output_type": "execute_result"
    }
   ],
   "source": [
    "#Lets check the skewness\n",
    "dfn .skew()"
   ]
  },
  {
   "cell_type": "code",
   "execution_count": 10,
   "metadata": {},
   "outputs": [
    {
     "data": {
      "text/html": [
       "<div>\n",
       "<style scoped>\n",
       "    .dataframe tbody tr th:only-of-type {\n",
       "        vertical-align: middle;\n",
       "    }\n",
       "\n",
       "    .dataframe tbody tr th {\n",
       "        vertical-align: top;\n",
       "    }\n",
       "\n",
       "    .dataframe thead th {\n",
       "        text-align: right;\n",
       "    }\n",
       "</style>\n",
       "<table border=\"1\" class=\"dataframe\">\n",
       "  <thead>\n",
       "    <tr style=\"text-align: right;\">\n",
       "      <th></th>\n",
       "      <th>Yearsof Exp</th>\n",
       "      <th>Salary</th>\n",
       "    </tr>\n",
       "  </thead>\n",
       "  <tbody>\n",
       "    <tr>\n",
       "      <th>count</th>\n",
       "      <td>30.000000</td>\n",
       "      <td>30.000000</td>\n",
       "    </tr>\n",
       "    <tr>\n",
       "      <th>mean</th>\n",
       "      <td>5.313333</td>\n",
       "      <td>76003.000000</td>\n",
       "    </tr>\n",
       "    <tr>\n",
       "      <th>std</th>\n",
       "      <td>2.837888</td>\n",
       "      <td>27414.429785</td>\n",
       "    </tr>\n",
       "    <tr>\n",
       "      <th>min</th>\n",
       "      <td>1.100000</td>\n",
       "      <td>37731.000000</td>\n",
       "    </tr>\n",
       "    <tr>\n",
       "      <th>25%</th>\n",
       "      <td>3.200000</td>\n",
       "      <td>56720.750000</td>\n",
       "    </tr>\n",
       "    <tr>\n",
       "      <th>50%</th>\n",
       "      <td>4.700000</td>\n",
       "      <td>65237.000000</td>\n",
       "    </tr>\n",
       "    <tr>\n",
       "      <th>75%</th>\n",
       "      <td>7.700000</td>\n",
       "      <td>100544.750000</td>\n",
       "    </tr>\n",
       "    <tr>\n",
       "      <th>max</th>\n",
       "      <td>10.500000</td>\n",
       "      <td>122391.000000</td>\n",
       "    </tr>\n",
       "  </tbody>\n",
       "</table>\n",
       "</div>"
      ],
      "text/plain": [
       "       Yearsof Exp         Salary\n",
       "count    30.000000      30.000000\n",
       "mean      5.313333   76003.000000\n",
       "std       2.837888   27414.429785\n",
       "min       1.100000   37731.000000\n",
       "25%       3.200000   56720.750000\n",
       "50%       4.700000   65237.000000\n",
       "75%       7.700000  100544.750000\n",
       "max      10.500000  122391.000000"
      ]
     },
     "execution_count": 10,
     "metadata": {},
     "output_type": "execute_result"
    }
   ],
   "source": [
    "# Lets check the descriptive statistics\n",
    "df.describe()"
   ]
  },
  {
   "cell_type": "code",
   "execution_count": 11,
   "metadata": {},
   "outputs": [
    {
     "data": {
      "text/html": [
       "<div>\n",
       "<style scoped>\n",
       "    .dataframe tbody tr th:only-of-type {\n",
       "        vertical-align: middle;\n",
       "    }\n",
       "\n",
       "    .dataframe tbody tr th {\n",
       "        vertical-align: top;\n",
       "    }\n",
       "\n",
       "    .dataframe thead th {\n",
       "        text-align: right;\n",
       "    }\n",
       "</style>\n",
       "<table border=\"1\" class=\"dataframe\">\n",
       "  <thead>\n",
       "    <tr style=\"text-align: right;\">\n",
       "      <th></th>\n",
       "      <th>Yearsof Exp</th>\n",
       "      <th>Salary</th>\n",
       "    </tr>\n",
       "  </thead>\n",
       "  <tbody>\n",
       "    <tr>\n",
       "      <th>Yearsof Exp</th>\n",
       "      <td>1.000000</td>\n",
       "      <td>0.978242</td>\n",
       "    </tr>\n",
       "    <tr>\n",
       "      <th>Salary</th>\n",
       "      <td>0.978242</td>\n",
       "      <td>1.000000</td>\n",
       "    </tr>\n",
       "  </tbody>\n",
       "</table>\n",
       "</div>"
      ],
      "text/plain": [
       "             Yearsof Exp    Salary\n",
       "Yearsof Exp     1.000000  0.978242\n",
       "Salary          0.978242  1.000000"
      ]
     },
     "execution_count": 11,
     "metadata": {},
     "output_type": "execute_result"
    }
   ],
   "source": [
    "#Lets check the correlation\n",
    "df.corr()"
   ]
  },
  {
   "cell_type": "code",
   "execution_count": 12,
   "metadata": {},
   "outputs": [
    {
     "data": {
      "text/plain": [
       "<matplotlib.axes._subplots.AxesSubplot at 0x288f9b6668>"
      ]
     },
     "execution_count": 12,
     "metadata": {},
     "output_type": "execute_result"
    },
    {
     "data": {
      "image/png": "[encoded data removed]",
      "text/plain": [
       "<Figure size 432x288 with 1 Axes>"
      ]
     },
     "metadata": {
      "needs_background": "light"
     },
     "output_type": "display_data"
    }
   ],
   "source": [
    "# Lets see the distrubution of 'year of exp'\n",
    "sns.distplot(df['Yearsof Exp'])"
   ]
  },
  {
   "cell_type": "code",
   "execution_count": 13,
   "metadata": {},
   "outputs": [
    {
     "data": {
      "text/plain": [
       "<matplotlib.axes._subplots.AxesSubplot at 0x288fa27a58>"
      ]
     },
     "execution_count": 13,
     "metadata": {},
     "output_type": "execute_result"
    },
    {
     "data": {
      "image/png": "[encoded data removed]",
      "text/plain": [
       "<Figure size 432x288 with 1 Axes>"
      ]
     },
     "metadata": {
      "needs_background": "light"
     },
     "output_type": "display_data"
    }
   ],
   "source": [
    "#Lets visulaize the variation in target with feature\n",
    "sns.scatterplot(df['Yearsof Exp'],df['Salary'])"
   ]
  },
  {
   "cell_type": "code",
   "execution_count": 14,
   "metadata": {},
   "outputs": [],
   "source": [
    "#Lets seperate feature and Target\n",
    "x1=df[['Yearsof Exp']]\n",
    "y=df[['Salary']]"
   ]
  },
  {
   "cell_type": "code",
   "execution_count": 15,
   "metadata": {},
   "outputs": [
    {
     "data": {
      "text/html": [
       "<div>\n",
       "<style scoped>\n",
       "    .dataframe tbody tr th:only-of-type {\n",
       "        vertical-align: middle;\n",
       "    }\n",
       "\n",
       "    .dataframe tbody tr th {\n",
       "        vertical-align: top;\n",
       "    }\n",
       "\n",
       "    .dataframe thead th {\n",
       "        text-align: right;\n",
       "    }\n",
       "</style>\n",
       "<table border=\"1\" class=\"dataframe\">\n",
       "  <thead>\n",
       "    <tr style=\"text-align: right;\">\n",
       "      <th></th>\n",
       "      <th>Yearsof Exp</th>\n",
       "    </tr>\n",
       "  </thead>\n",
       "  <tbody>\n",
       "    <tr>\n",
       "      <th>0</th>\n",
       "      <td>1.1</td>\n",
       "    </tr>\n",
       "    <tr>\n",
       "      <th>1</th>\n",
       "      <td>1.3</td>\n",
       "    </tr>\n",
       "    <tr>\n",
       "      <th>2</th>\n",
       "      <td>1.5</td>\n",
       "    </tr>\n",
       "    <tr>\n",
       "      <th>3</th>\n",
       "      <td>2.0</td>\n",
       "    </tr>\n",
       "    <tr>\n",
       "      <th>4</th>\n",
       "      <td>2.2</td>\n",
       "    </tr>\n",
       "  </tbody>\n",
       "</table>\n",
       "</div>"
      ],
      "text/plain": [
       "   Yearsof Exp\n",
       "0          1.1\n",
       "1          1.3\n",
       "2          1.5\n",
       "3          2.0\n",
       "4          2.2"
      ]
     },
     "execution_count": 15,
     "metadata": {},
     "output_type": "execute_result"
    }
   ],
   "source": [
    "#Lets check the first five rows of feature\n",
    "x1.head()"
   ]
  },
  {
   "cell_type": "code",
   "execution_count": 16,
   "metadata": {},
   "outputs": [
    {
     "data": {
      "text/html": [
       "<div>\n",
       "<style scoped>\n",
       "    .dataframe tbody tr th:only-of-type {\n",
       "        vertical-align: middle;\n",
       "    }\n",
       "\n",
       "    .dataframe tbody tr th {\n",
       "        vertical-align: top;\n",
       "    }\n",
       "\n",
       "    .dataframe thead th {\n",
       "        text-align: right;\n",
       "    }\n",
       "</style>\n",
       "<table border=\"1\" class=\"dataframe\">\n",
       "  <thead>\n",
       "    <tr style=\"text-align: right;\">\n",
       "      <th></th>\n",
       "      <th>Salary</th>\n",
       "    </tr>\n",
       "  </thead>\n",
       "  <tbody>\n",
       "    <tr>\n",
       "      <th>0</th>\n",
       "      <td>39343</td>\n",
       "    </tr>\n",
       "    <tr>\n",
       "      <th>1</th>\n",
       "      <td>46205</td>\n",
       "    </tr>\n",
       "    <tr>\n",
       "      <th>2</th>\n",
       "      <td>37731</td>\n",
       "    </tr>\n",
       "    <tr>\n",
       "      <th>3</th>\n",
       "      <td>43525</td>\n",
       "    </tr>\n",
       "    <tr>\n",
       "      <th>4</th>\n",
       "      <td>39891</td>\n",
       "    </tr>\n",
       "  </tbody>\n",
       "</table>\n",
       "</div>"
      ],
      "text/plain": [
       "   Salary\n",
       "0   39343\n",
       "1   46205\n",
       "2   37731\n",
       "3   43525\n",
       "4   39891"
      ]
     },
     "execution_count": 16,
     "metadata": {},
     "output_type": "execute_result"
    }
   ],
   "source": [
    "#Lets check the first five rows of target\n",
    "y.head()"
   ]
  },
  {
   "cell_type": "code",
   "execution_count": 17,
   "metadata": {},
   "outputs": [],
   "source": [
    "# Lets import the models and metrics\n",
    "from sklearn.linear_model import LinearRegression\n",
    "from sklearn.linear_model import Lasso\n",
    "from sklearn.linear_model import Ridge\n",
    "from sklearn.linear_model import ElasticNet\n",
    "from sklearn.neighbors import KNeighborsRegressor\n",
    "from sklearn.tree import DecisionTreeRegressor\n",
    "from sklearn.svm import SVR\n",
    "from sklearn.model_selection import cross_val_score\n",
    "from sklearn.metrics import r2_score"
   ]
  },
  {
   "cell_type": "code",
   "execution_count": 18,
   "metadata": {},
   "outputs": [],
   "source": [
    "# Lets scale the data\n",
    "from sklearn.preprocessing import StandardScaler\n",
    "sc=StandardScaler()\n",
    "x=sc.fit_transform(x1)\n",
    "x=pd.DataFrame(x,columns=x1.columns)"
   ]
  },
  {
   "cell_type": "code",
   "execution_count": 19,
   "metadata": {},
   "outputs": [],
   "source": [
    "from sklearn.model_selection import train_test_split\n",
    "from  sklearn. metrics import mean_absolute_error, mean_squared_error,r2_score\n",
    "# it seems there is linear relation so we can try linear regression\n",
    "LR=linear_model.LinearRegression()"
   ]
  },
  {
   "cell_type": "code",
   "execution_count": 20,
   "metadata": {},
   "outputs": [
    {
     "name": "stdout",
     "output_type": "stream",
     "text": [
      "At random state 1 the r2score is 0.7616681465472094\n",
      "At random state 2 the r2score is 0.8886956733784563\n",
      "At random state 3 the r2score is 0.9695039421049823\n",
      "At random state 4 the r2score is 0.9504404484884268\n",
      "At random state 5 the r2score is 0.9439628569611375\n",
      "At random state 6 the r2score is 0.9368146227107088\n",
      "At random state 7 the r2score is 0.8143022783109005\n",
      "At random state 8 the r2score is 0.9631182154839475\n",
      "At random state 9 the r2score is 0.9388416537799071\n",
      "At random state 10 the r2score is 0.9816423482070253\n",
      "At random state 11 the r2score is 0.940882728477622\n",
      "At random state 12 the r2score is 0.9429269163491423\n",
      "At random state 13 the r2score is 0.9394460269118792\n",
      "At random state 14 the r2score is 0.9606215790278544\n",
      "At random state 15 the r2score is 0.8697012433817216\n",
      "At random state 16 the r2score is 0.7949890249259298\n",
      "At random state 17 the r2score is 0.9384744808306156\n",
      "At random state 18 the r2score is 0.886433064584189\n",
      "At random state 19 the r2score is 0.9415531751862449\n",
      "At random state 20 the r2score is 0.9441299149555877\n",
      "At random state 21 the r2score is 0.9398582853702571\n",
      "At random state 22 the r2score is 0.8870702615446784\n",
      "At random state 23 the r2score is 0.9184170849214233\n",
      "At random state 24 the r2score is 0.9520702017424296\n",
      "At random state 25 the r2score is 0.9531732818427658\n",
      "At random state 26 the r2score is 0.9835849730044816\n",
      "At random state 27 the r2score is 0.9636425773684422\n",
      "At random state 28 the r2score is 0.9217841352107623\n",
      "At random state 29 the r2score is 0.9467172742609804\n",
      "At random state 30 the r2score is 0.9944092048209745\n",
      "At random state 31 the r2score is 0.8967649524853982\n",
      "At random state 32 the r2score is 0.8985995727228404\n",
      "At random state 33 the r2score is 0.9350785573211586\n",
      "At random state 34 the r2score is 0.9244141448042442\n",
      "At random state 35 the r2score is 0.8839476512584653\n",
      "At random state 36 the r2score is 0.9550211069007392\n",
      "At random state 37 the r2score is 0.9778242092591888\n",
      "At random state 38 the r2score is 0.9724794487377623\n",
      "At random state 39 the r2score is 0.9928344802911049\n",
      "At random state 40 the r2score is 0.7775083459037234\n",
      "At random state 41 the r2score is 0.9802519469633169\n",
      "At random state 42 the r2score is 0.9024461774180499\n",
      "At random state 43 the r2score is 0.8688045158887868\n",
      "At random state 44 the r2score is 0.9349511170439279\n",
      "At random state 45 the r2score is 0.9250487875802144\n",
      "At random state 46 the r2score is 0.9789129767378081\n",
      "At random state 47 the r2score is 0.98399193890564\n",
      "At random state 48 the r2score is 0.980277279178695\n",
      "At random state 49 the r2score is 0.9497670285223544\n",
      "At random state 50 the r2score is 0.882467963516984\n",
      "At random state 51 the r2score is 0.9608624689052039\n",
      "At random state 52 the r2score is 0.9743646706957548\n",
      "At random state 53 the r2score is 0.9501154883629507\n",
      "At random state 54 the r2score is 0.949272996884066\n",
      "At random state 55 the r2score is 0.8924137091604103\n",
      "At random state 56 the r2score is 0.9804067424885894\n",
      "At random state 57 the r2score is 0.809635146935763\n",
      "At random state 58 the r2score is 0.4815220524569862\n",
      "At random state 59 the r2score is 0.9547990109846669\n",
      "At random state 60 the r2score is 0.9139925364405546\n",
      "At random state 61 the r2score is 0.9505222881477348\n",
      "At random state 62 the r2score is 0.9719509793938971\n",
      "At random state 63 the r2score is 0.95820089851047\n",
      "At random state 64 the r2score is 0.9140067830429538\n",
      "At random state 65 the r2score is 0.8112700860065651\n",
      "At random state 66 the r2score is 0.7782285644532072\n",
      "At random state 67 the r2score is 0.9588832495320916\n",
      "At random state 68 the r2score is 0.9791787060652751\n",
      "At random state 69 the r2score is 0.8711824073761936\n",
      "At random state 70 the r2score is 0.9429397733426299\n",
      "At random state 71 the r2score is 0.9694792167947474\n",
      "At random state 72 the r2score is 0.9562771755752736\n",
      "At random state 73 the r2score is 0.981214310330871\n",
      "At random state 74 the r2score is 0.9618591691900453\n",
      "At random state 75 the r2score is 0.9652242905568413\n",
      "At random state 76 the r2score is 0.846827031854035\n",
      "At random state 77 the r2score is 0.9782012346646264\n",
      "At random state 78 the r2score is 0.9861836585536035\n",
      "At random state 79 the r2score is 0.9806625667591384\n",
      "At random state 80 the r2score is 0.9356346952232668\n",
      "At random state 81 the r2score is 0.9760426364249574\n",
      "At random state 82 the r2score is 0.9561094647440507\n",
      "At random state 83 the r2score is 0.953240654259053\n",
      "At random state 84 the r2score is 0.9535679874886691\n",
      "At random state 85 the r2score is 0.9771739926822539\n",
      "At random state 86 the r2score is 0.9743110017459553\n",
      "At random state 87 the r2score is 0.9534669191518677\n",
      "At random state 88 the r2score is 0.9770761663991681\n",
      "At random state 89 the r2score is 0.9744265816506664\n",
      "At random state 90 the r2score is 0.967670187239063\n",
      "At random state 91 the r2score is 0.5524142829082126\n",
      "At random state 92 the r2score is 0.9793995823406392\n",
      "At random state 93 the r2score is 0.9682219576297961\n",
      "At random state 94 the r2score is 0.9676991009836634\n",
      "At random state 95 the r2score is 0.9059754831220264\n",
      "At random state 96 the r2score is 0.9359396033635742\n",
      "At random state 97 the r2score is 0.953703910249319\n",
      "At random state 98 the r2score is 0.33975138540227423\n",
      "At random state 99 the r2score is 0.9102354571044845\n",
      "\n",
      "\n",
      "max r2 score is 0.9944092048209745 at random state 30\n"
     ]
    }
   ],
   "source": [
    "#lETS FIND THE BEST RANDOM STATE\n",
    "maxscore =0\n",
    "for i in range(1,100):\n",
    "    r_s=i\n",
    "    X_train, X_test, y_train,y_test = train_test_split(x,y,test_size =0.2, random_state = r_s)\n",
    "    LR.fit(X_train, y_train)\n",
    "    y_pred = LR.predict(X_test)\n",
    "    r2_scr = r2_score(y_test,y_pred)\n",
    "    \n",
    "    print('At random state' ,r_s, 'the r2score is',r2_scr)\n",
    "    if r2_scr>maxscore:\n",
    "        maxscore=r2_scr\n",
    "        finalstate=i\n",
    "print()\n",
    "print()\n",
    "print('max r2 score is', maxscore,'at random state' , finalstate)"
   ]
  },
  {
   "cell_type": "code",
   "execution_count": 21,
   "metadata": {},
   "outputs": [
    {
     "data": {
      "text/plain": [
       "-0.0533642768450965"
      ]
     },
     "execution_count": 21,
     "metadata": {},
     "output_type": "execute_result"
    }
   ],
   "source": [
    "from sklearn.model_selection import cross_val_score\n",
    "cross_val_score(linear_model.LinearRegression(),x,y,cv=5,scoring='r2').mean()  # data is not sufficient"
   ]
  },
  {
   "cell_type": "code",
   "execution_count": 22,
   "metadata": {},
   "outputs": [],
   "source": [
    "#lETS SPLIT THE TRAIN AND TEST DATA\n",
    "X_train, X_test, y_train,y_test = train_test_split(x,y,test_size =0.2, random_state = 30)"
   ]
  },
  {
   "cell_type": "code",
   "execution_count": 23,
   "metadata": {},
   "outputs": [],
   "source": [
    "#Lets create a list of models to be evaluated\n",
    "models=[]\n",
    "models.append(('LR',LinearRegression()))\n",
    "models.append(('LS',Lasso()))\n",
    "models.append(('RD',Ridge()))\n",
    "models.append(('EN',ElasticNet()))\n",
    "models.append(('KN',KNeighborsRegressor()))\n",
    "models.append(('DT',DecisionTreeRegressor()))\n",
    "models.append(('SV',SVR()))"
   ]
  },
  {
   "cell_type": "code",
   "execution_count": 24,
   "metadata": {},
   "outputs": [
    {
     "name": "stdout",
     "output_type": "stream",
     "text": [
      "LinearRegression(copy_X=True, fit_intercept=True, n_jobs=None,\n",
      "         normalize=False): 0.994409\n",
      "Lasso(alpha=1.0, copy_X=True, fit_intercept=True, max_iter=1000,\n",
      "   normalize=False, positive=False, precompute=False, random_state=None,\n",
      "   selection='cyclic', tol=0.0001, warm_start=False): 0.994410\n",
      "Ridge(alpha=1.0, copy_X=True, fit_intercept=True, max_iter=None,\n",
      "   normalize=False, random_state=None, solver='auto', tol=0.001): 0.992804\n",
      "ElasticNet(alpha=1.0, copy_X=True, fit_intercept=True, l1_ratio=0.5,\n",
      "      max_iter=1000, normalize=False, positive=False, precompute=False,\n",
      "      random_state=None, selection='cyclic', tol=0.0001, warm_start=False): 0.837622\n",
      "KNeighborsRegressor(algorithm='auto', leaf_size=30, metric='minkowski',\n",
      "          metric_params=None, n_jobs=None, n_neighbors=5, p=2,\n",
      "          weights='uniform'): 0.958022\n",
      "DecisionTreeRegressor(criterion='mse', max_depth=None, max_features=None,\n",
      "           max_leaf_nodes=None, min_impurity_decrease=0.0,\n",
      "           min_impurity_split=None, min_samples_leaf=1,\n",
      "           min_samples_split=2, min_weight_fraction_leaf=0.0,\n",
      "           presort=False, random_state=None, splitter='best'): 0.977546\n",
      "SVR(C=1.0, cache_size=200, coef0=0.0, degree=3, epsilon=0.1,\n",
      "  gamma='auto_deprecated', kernel='rbf', max_iter=-1, shrinking=True,\n",
      "  tol=0.001, verbose=False): -0.578651\n"
     ]
    }
   ],
   "source": [
    "#lETS COMPARE THE PERFORMANCE OF MODELS\n",
    "results = []\n",
    "names = []\n",
    "for name, model in models:\n",
    "        name = model\n",
    "        name.fit(X_train,y_train)\n",
    "        y_pred = name.predict(X_test)\n",
    "        r2_scr = r2_score(y_test,y_pred)\n",
    "        results.append(r2_scr)\n",
    "        names.append(name)\n",
    "        msg = \"%s: %f\" % (name, r2_scr)\n",
    "        print(msg)"
   ]
  },
  {
   "cell_type": "code",
   "execution_count": 25,
   "metadata": {},
   "outputs": [
    {
     "data": {
      "text/html": [
       "<div>\n",
       "<style scoped>\n",
       "    .dataframe tbody tr th:only-of-type {\n",
       "        vertical-align: middle;\n",
       "    }\n",
       "\n",
       "    .dataframe tbody tr th {\n",
       "        vertical-align: top;\n",
       "    }\n",
       "\n",
       "    .dataframe thead th {\n",
       "        text-align: right;\n",
       "    }\n",
       "</style>\n",
       "<table border=\"1\" class=\"dataframe\">\n",
       "  <thead>\n",
       "    <tr style=\"text-align: right;\">\n",
       "      <th></th>\n",
       "      <th>model</th>\n",
       "      <th>r2score</th>\n",
       "    </tr>\n",
       "  </thead>\n",
       "  <tbody>\n",
       "    <tr>\n",
       "      <th>1</th>\n",
       "      <td>Lasso(alpha=1.0, copy_X=True, fit_intercept=Tr...</td>\n",
       "      <td>0.994410</td>\n",
       "    </tr>\n",
       "    <tr>\n",
       "      <th>0</th>\n",
       "      <td>LinearRegression(copy_X=True, fit_intercept=Tr...</td>\n",
       "      <td>0.994409</td>\n",
       "    </tr>\n",
       "    <tr>\n",
       "      <th>2</th>\n",
       "      <td>Ridge(alpha=1.0, copy_X=True, fit_intercept=Tr...</td>\n",
       "      <td>0.992804</td>\n",
       "    </tr>\n",
       "    <tr>\n",
       "      <th>5</th>\n",
       "      <td>DecisionTreeRegressor(criterion='mse', max_dep...</td>\n",
       "      <td>0.977546</td>\n",
       "    </tr>\n",
       "    <tr>\n",
       "      <th>4</th>\n",
       "      <td>KNeighborsRegressor(algorithm='auto', leaf_siz...</td>\n",
       "      <td>0.958022</td>\n",
       "    </tr>\n",
       "    <tr>\n",
       "      <th>3</th>\n",
       "      <td>ElasticNet(alpha=1.0, copy_X=True, fit_interce...</td>\n",
       "      <td>0.837622</td>\n",
       "    </tr>\n",
       "    <tr>\n",
       "      <th>6</th>\n",
       "      <td>SVR(C=1.0, cache_size=200, coef0=0.0, degree=3...</td>\n",
       "      <td>-0.578651</td>\n",
       "    </tr>\n",
       "  </tbody>\n",
       "</table>\n",
       "</div>"
      ],
      "text/plain": [
       "                                               model   r2score\n",
       "1  Lasso(alpha=1.0, copy_X=True, fit_intercept=Tr...  0.994410\n",
       "0  LinearRegression(copy_X=True, fit_intercept=Tr...  0.994409\n",
       "2  Ridge(alpha=1.0, copy_X=True, fit_intercept=Tr...  0.992804\n",
       "5  DecisionTreeRegressor(criterion='mse', max_dep...  0.977546\n",
       "4  KNeighborsRegressor(algorithm='auto', leaf_siz...  0.958022\n",
       "3  ElasticNet(alpha=1.0, copy_X=True, fit_interce...  0.837622\n",
       "6  SVR(C=1.0, cache_size=200, coef0=0.0, degree=3... -0.578651"
      ]
     },
     "execution_count": 25,
     "metadata": {},
     "output_type": "execute_result"
    }
   ],
   "source": [
    "data = {'model':names,'r2score':results}\n",
    "dfn = pd.DataFrame(data)\n",
    "dfn.sort_values(by='r2score', ascending =False)"
   ]
  },
  {
   "cell_type": "code",
   "execution_count": 26,
   "metadata": {},
   "outputs": [
    {
     "data": {
      "text/plain": [
       "0.9944092048209745"
      ]
     },
     "execution_count": 26,
     "metadata": {},
     "output_type": "execute_result"
    }
   ],
   "source": [
    "# AS BEST PERFORMANACE ARE GIVEN BY LINEAR REGRESSION AND LASSO AND VERY CLOSE TO EACH OTHER , WE ARE CHOOSING LINEAR REG\n",
    "X_train, X_test, y_train,y_test = train_test_split(x,y,test_size =0.2, random_state = 30)\n",
    "LRF=linear_model.LinearRegression()\n",
    "LRF.fit(X_train, y_train)\n",
    "y_pred = LRF.predict(X_test)\n",
    "r2_scr = r2_score(y_test,y_pred)\n",
    "r2_scr"
   ]
  },
  {
   "cell_type": "code",
   "execution_count": 27,
   "metadata": {},
   "outputs": [
    {
     "name": "stdout",
     "output_type": "stream",
     "text": [
      "r2 score is:  0.9944092048209745\n",
      "MSE is :  5453562.219148253\n",
      "RMSE is :  2335.286324875015\n"
     ]
    }
   ],
   "source": [
    "print(\"r2 score is: \",r2_score(y_test,y_pred))\n",
    "print(\"MSE is : \", mean_squared_error(y_test,y_pred))\n",
    "print(\"RMSE is : \",np.sqrt(mean_squared_error(y_test,y_pred)))"
   ]
  },
  {
   "cell_type": "code",
   "execution_count": 28,
   "metadata": {},
   "outputs": [
    {
     "data": {
      "text/plain": [
       "['LR_SALARY.pkl']"
      ]
     },
     "execution_count": 28,
     "metadata": {},
     "output_type": "execute_result"
    }
   ],
   "source": [
    "#Lets dump our created model into pkl file\n",
    "from sklearn.externals import joblib\n",
    "joblib.dump(LRF,'LR_SALARY.pkl')"
   ]
  }
 ],
 "metadata": {
  "kernelspec": {
   "display_name": "Python 3",
   "language": "python",
   "name": "python3"
  },
  "language_info": {
   "codemirror_mode": {
    "name": "ipython",
    "version": 3
   },
   "file_extension": ".py",
   "mimetype": "text/x-python",
   "name": "python",
   "nbconvert_exporter": "python",
   "pygments_lexer": "ipython3",
   "version": "3.7.3"
  }
 },
 "nbformat": 4,
 "nbformat_minor": 2
}
